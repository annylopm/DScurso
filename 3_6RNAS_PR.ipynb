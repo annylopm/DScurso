{
  "nbformat": 4,
  "nbformat_minor": 0,
  "metadata": {
    "colab": {
      "provenance": []
    },
    "kernelspec": {
      "name": "python3",
      "display_name": "Python 3"
    },
    "language_info": {
      "name": "python"
    }
  },
  "cells": [
    {
      "cell_type": "markdown",
      "source": [
        "# Reto 01"
      ],
      "metadata": {
        "id": "uG1fBDsNyIlo"
      }
    },
    {
      "cell_type": "markdown",
      "source": [
        "**Dr. Antonio Arista Jalife**\n",
        "\n",
        "Este reto es bastante sencillo: Crear una neurona con una función de activación simple (\n",
        ") por lo que deberás de crear tres funciones: calcularZ, calcularSalida, y unirlos en una función llamada \"neurona\""
      ],
      "metadata": {
        "id": "_M1wpSiRyQZV"
      }
    },
    {
      "cell_type": "code",
      "source": [
        "import numpy as np"
      ],
      "metadata": {
        "id": "keLC51-SyklL"
      },
      "execution_count": null,
      "outputs": []
    },
    {
      "cell_type": "markdown",
      "source": [
        "Primero se calculará la ecuación: z = w1x1 + w2x2 + w3x3 + ... + b"
      ],
      "metadata": {
        "id": "-YbBIFpaytKZ"
      }
    },
    {
      "cell_type": "code",
      "source": [
        "def calcularZ(w, x, b):\n",
        "  z = np.dot(w,x) + b\n",
        "  return z"
      ],
      "metadata": {
        "id": "fbMHxr2GzN6h"
      },
      "execution_count": null,
      "outputs": []
    },
    {
      "cell_type": "code",
      "source": [
        "w = [1,2,3]\n",
        "x = [1,2,3]\n",
        "b = 4\n",
        "z = calcularZ(w,x,b)\n",
        "print(z)"
      ],
      "metadata": {
        "colab": {
          "base_uri": "https://localhost:8080/"
        },
        "id": "gYVrYnkTzZgJ",
        "outputId": "36590194-7239-4c96-e846-93cd015a3b3b"
      },
      "execution_count": null,
      "outputs": [
        {
          "output_type": "stream",
          "name": "stdout",
          "text": [
            "18\n"
          ]
        }
      ]
    },
    {
      "cell_type": "markdown",
      "source": [
        "Luego se calcula la salida con: y = g(z) = z\n",
        "\n",
        "Toma en cuenta que esta función de activación es \"dummy\", en los siguientes ejemplos se modificará esta función"
      ],
      "metadata": {
        "id": "zVQuWz5J0lDE"
      }
    },
    {
      "cell_type": "code",
      "source": [
        "def calcularSalida(z):\n",
        "  y_predicha = z\n",
        "  return y_predicha"
      ],
      "metadata": {
        "id": "TagNfg5p0wfD"
      },
      "execution_count": null,
      "outputs": []
    },
    {
      "cell_type": "markdown",
      "source": [
        "Finalmente se calcula la neurona uniendo las dos funciones"
      ],
      "metadata": {
        "id": "LLmDRTJH1Abo"
      }
    },
    {
      "cell_type": "code",
      "source": [
        "def neurona(w,x,b):\n",
        "  z = calcularZ(w,x,b)\n",
        "  y = calcularSalida(z)\n",
        "  return y"
      ],
      "metadata": {
        "id": "oJqfiDGh1C2K"
      },
      "execution_count": null,
      "outputs": []
    },
    {
      "cell_type": "code",
      "source": [
        "w = [1,2,3]\n",
        "x = [1,2,3]\n",
        "b = 4\n",
        "print(neurona(w,x,b))"
      ],
      "metadata": {
        "colab": {
          "base_uri": "https://localhost:8080/"
        },
        "id": "KV8CRTWU1B0g",
        "outputId": "fb2e3e51-1a74-41d4-b83e-8f3a8a788740"
      },
      "execution_count": null,
      "outputs": [
        {
          "output_type": "stream",
          "name": "stdout",
          "text": [
            "18\n"
          ]
        }
      ]
    },
    {
      "cell_type": "markdown",
      "source": [
        "# Reto 02"
      ],
      "metadata": {
        "id": "cBMT-nG4ceL_"
      }
    },
    {
      "cell_type": "markdown",
      "source": [
        "# Dr. Antonio Arista Jalife\n",
        "\n",
        "En este reto el objetivo será crear una función que inicialice una capa neuronal: La función de inicialización debe recibir de como input el número de caracteristicas (o entradas) y el número de neuronas, y el output de la función debe entregar los pesos sinápticos y bias en forma de arreglos y matrices de NumPy."
      ],
      "metadata": {
        "id": "00UAWER9chsc"
      }
    },
    {
      "cell_type": "code",
      "source": [
        "import numpy as np"
      ],
      "metadata": {
        "id": "pRL-j3spckP5"
      },
      "execution_count": null,
      "outputs": []
    },
    {
      "cell_type": "markdown",
      "source": [
        "En primer lugar creamos las funciones de la neurona."
      ],
      "metadata": {
        "id": "dggaEIEUcq0o"
      }
    },
    {
      "cell_type": "code",
      "source": [
        "def calcularZ(w,x,b):\n",
        "  z = np.dot(w,x) + b\n",
        "  return z\n",
        "\n",
        "def activacion(z):\n",
        "  y = 1 / (1 + np.exp(-z))\n",
        "  return y\n",
        "\n",
        "def capaNeuronal(w,x,b):\n",
        "  z = calcularZ(w,x,b)\n",
        "  y_pred= activacion(z)\n",
        "  return y_pred"
      ],
      "metadata": {
        "id": "HpXpp0Rrcr4I"
      },
      "execution_count": null,
      "outputs": []
    },
    {
      "cell_type": "markdown",
      "source": [
        "**Función de inicializar capa.**\n",
        "\n",
        "Esta es la función que inicializa una de las capas neuronales (en la literatura \"layers\"). Los pesos sinápticos W se colocarán transpuestos de una vez, por conveniencia."
      ],
      "metadata": {
        "id": "xiVSCNKphGQj"
      }
    },
    {
      "cell_type": "code",
      "source": [
        "def inicializarCapa(numCaracteristicas, numNeuronas):\n",
        "  w = np.random.rand(numCaracteristicas, numNeuronas)\n",
        "  w_transpose = w.T\n",
        "  b = np.random.rand(numNeuronas)\n",
        "  return w_transpose, b"
      ],
      "metadata": {
        "id": "-eB23Mz9hKoO"
      },
      "execution_count": null,
      "outputs": []
    },
    {
      "cell_type": "markdown",
      "source": [
        "Probemos las capas neuronales: primero una inicialización de 3 características y 2 neuronas."
      ],
      "metadata": {
        "id": "EHizFCJmhnWv"
      }
    },
    {
      "cell_type": "code",
      "source": [
        "w, b = inicializarCapa(3, 2)\n",
        "print(w.shape)\n",
        "print(b.shape)"
      ],
      "metadata": {
        "colab": {
          "base_uri": "https://localhost:8080/"
        },
        "id": "jrmPBtqShomh",
        "outputId": "90d09fb7-33b7-40f4-ed72-634c4184ae5f"
      },
      "execution_count": null,
      "outputs": [
        {
          "output_type": "stream",
          "name": "stdout",
          "text": [
            "(2, 3)\n",
            "(2,)\n"
          ]
        }
      ]
    },
    {
      "cell_type": "markdown",
      "source": [
        "Y luego, veamos como reacciona con una entrada de 10 características y 2 neuronas. La salida deben ser 2 valores en un array."
      ],
      "metadata": {
        "id": "_rt0VUYkhqEd"
      }
    },
    {
      "cell_type": "code",
      "source": [
        "x = np.array([0,1,2,3,4,3,2,1,0,-1]) #10 caracteristicas de entrada\n",
        "w, b = inicializarCapa(10, 2) #10 caracteristicas, 2 neuronas\n",
        "y = capaNeuronal(w, x, b)\n",
        "print(y)"
      ],
      "metadata": {
        "colab": {
          "base_uri": "https://localhost:8080/"
        },
        "id": "SQUGbcm1hreV",
        "outputId": "6c85270c-5ec8-4f09-beb9-5fb47e57f6db"
      },
      "execution_count": null,
      "outputs": [
        {
          "output_type": "stream",
          "name": "stdout",
          "text": [
            "[0.99144484 0.97778505]\n"
          ]
        }
      ]
    },
    {
      "cell_type": "markdown",
      "source": [
        "# Reto 03"
      ],
      "metadata": {
        "id": "uh2knHvf6G4Z"
      }
    },
    {
      "cell_type": "markdown",
      "source": [
        "**Dr. Antonio Arista Jalife.**\n",
        "\n",
        "El objetivo de este reto es que construyas un clasificador multiclase con lo aprendido sobre redes neuronales. Para este caso utiliza la función MLPClassifier, y para evaluar la precisión, utiliza np.trace (recuerda que la precisión se calcula sumando la diagonal de una matriz y dividiendola entre el numero de muestras."
      ],
      "metadata": {
        "id": "7gcug0Kg6KmE"
      }
    },
    {
      "cell_type": "code",
      "source": [
        "import numpy as np\n",
        "from matplotlib import pyplot as plt\n",
        "from sklearn.neural_network import MLPClassifier\n",
        "from sklearn.datasets import make_blobs\n",
        "from sklearn.model_selection import train_test_split"
      ],
      "metadata": {
        "id": "rQMpRr4f6JGX"
      },
      "execution_count": 1,
      "outputs": []
    },
    {
      "cell_type": "markdown",
      "source": [
        "Crearemos 1000 datos, con 4 centros y 10 características, aunque solamente plottearemos la característica 0 y 1. Cada que corras la celda siguiente el dataset cambiará."
      ],
      "metadata": {
        "id": "M5RTyHub6Pco"
      }
    },
    {
      "cell_type": "code",
      "source": [
        "x, y = make_blobs(n_samples=1000, centers=4, n_features=10)\n",
        "plt.scatter(x[:,0], x[:,1], c=y)\n",
        "plt.show()"
      ],
      "metadata": {
        "colab": {
          "base_uri": "https://localhost:8080/",
          "height": 430
        },
        "id": "Ea_6_Oof6fow",
        "outputId": "4c3816e5-4acc-413b-d974-445f159f4774"
      },
      "execution_count": 2,
      "outputs": [
        {
          "output_type": "display_data",
          "data": {
            "text/plain": [
              "<Figure size 640x480 with 1 Axes>"
            ],
            "image/png": "[encoded data removed]"
          },
          "metadata": {}
        }
      ]
    },
    {
      "cell_type": "markdown",
      "source": [
        "Probemos que tal funciona una red neuronal con 10 neuronas de primera capa y 4 de segunda capa. Si estas viendo esto una vez completado el reto, te invito a cambiar el valor de hidden_layer_sizes para que veas que tal se comporta"
      ],
      "metadata": {
        "id": "aZaUqfwr6kN7"
      }
    },
    {
      "cell_type": "markdown",
      "source": [
        "**NOTA: El correr esta celda puede llevar un rato! aproximadamente unos 3 o 4 minutos. Preparate un café mientras tanto...**"
      ],
      "metadata": {
        "id": "0p4U9R2W6mgL"
      }
    },
    {
      "cell_type": "code",
      "source": [
        "x_train, x_test, y_train, y_test = train_test_split(x,y,test_size=0.4)\n",
        "\n",
        "\n",
        "redNeuronal = MLPClassifier(hidden_layer_sizes=(10,4),\n",
        "                            max_iter=20000,\n",
        "                            activation ='logistic',\n",
        "                            tol= 1e-7)\n",
        "\n",
        "redNeuronal.fit(x_train, y_train)\n",
        "y_pred = redNeuronal.predict(x_test)\n",
        "print(\"Entrenamiento completado!\")"
      ],
      "metadata": {
        "colab": {
          "base_uri": "https://localhost:8080/"
        },
        "id": "nal7GgqP6r0f",
        "outputId": "6137c607-b4ca-4824-e06e-57e66b81e54b"
      },
      "execution_count": 3,
      "outputs": [
        {
          "output_type": "stream",
          "name": "stdout",
          "text": [
            "Entrenamiento completado!\n"
          ]
        }
      ]
    },
    {
      "cell_type": "markdown",
      "source": [
        "**Métricas de desempeño de nuestra Red Neuronal.**\n",
        "\n",
        "En la sesión 02 mencioné que para calcular el accuracy, tienes que obtener la diagonal de la matriz de confusión, esto se hace con la función np.trace"
      ],
      "metadata": {
        "id": "SG0JQs-X69xq"
      }
    },
    {
      "cell_type": "code",
      "source": [
        "from sklearn.metrics import confusion_matrix\n",
        "resultado = confusion_matrix(y_test, y_pred)\n",
        "print(resultado)\n",
        "\n",
        "diagonal = np.trace(resultado)\n",
        "accuracy = (diagonal / y_test.shape[0])*100\n",
        "print(\"Accuracy: \"+str(accuracy)+\"%\")"
      ],
      "metadata": {
        "colab": {
          "base_uri": "https://localhost:8080/"
        },
        "id": "g-PrXFv87BKO",
        "outputId": "ed7cee63-9d55-4ee6-f78b-d76bee36768a"
      },
      "execution_count": 4,
      "outputs": [
        {
          "output_type": "stream",
          "name": "stdout",
          "text": [
            "[[102   0   0   0]\n",
            " [  0 102   0   0]\n",
            " [  0   0  98   0]\n",
            " [  0   0   0  98]]\n",
            "Accuracy: 100.0%\n"
          ]
        }
      ]
    }
  ]
}