{
  "nbformat": 4,
  "nbformat_minor": 0,
  "metadata": {
    "colab": {
      "provenance": []
    },
    "kernelspec": {
      "name": "python3",
      "display_name": "Python 3"
    },
    "language_info": {
      "name": "python"
    }
  },
  "cells": [
    {
      "cell_type": "markdown",
      "source": [
        "# Reto 01: Librería de utilidades."
      ],
      "metadata": {
        "id": "r2Qt4am_-fQz"
      }
    },
    {
      "cell_type": "markdown",
      "source": [
        "Dr. Antonio Arista.\n",
        "\n",
        "Deberás de crear una librería de utilidades, y copiarla a un archivo de python (.py)\n",
        "\n",
        "En este reto voy a probar que todas las funciones trabajen como esperamos, antes de copiarlas al archivo .py, ya que tenemos que asegurarnos que harán todo lo que necesitamos."
      ],
      "metadata": {
        "id": "jL5nm7Zh-jTH"
      }
    },
    {
      "cell_type": "code",
      "source": [
        "import numpy as np"
      ],
      "metadata": {
        "id": "KPISVMAo-mBl"
      },
      "execution_count": 6,
      "outputs": []
    },
    {
      "cell_type": "markdown",
      "source": [
        "## **Paso 1: Distancia euclidiana**\n",
        "Lo primero será crear la distancia euclidiana, que usaremos a montones. La distancia euclidiana también puede llamarse la norma. Puedes usar tu fórmula original, pero esta es un poco más rápida."
      ],
      "metadata": {
        "id": "BDKz5a6o-vx5"
      }
    },
    {
      "cell_type": "code",
      "source": [
        "#Distancia euclidiana\n",
        "def distEuclidiana(muestra, dataset):\n",
        "  distancias = np.zeros((dataset.shape[0],1))\n",
        "  for counter in range(0, dataset.shape[0]):\n",
        "    distancias[counter] = np.linalg.norm(muestra - dataset[counter])\n",
        "  return distancias"
      ],
      "metadata": {
        "id": "CKSkQhjA-0OK"
      },
      "execution_count": 7,
      "outputs": []
    },
    {
      "cell_type": "code",
      "source": [
        "#Prueba de distancia euclidiana:\n",
        "muestra = np.array([1,2,3,4])\n",
        "dataset = np.array([[1,2,3,4],\n",
        "                   [2,3,4,5],\n",
        "                    [3,4,5,6]])\n",
        "distancias = distEuclidiana(muestra, dataset)\n",
        "print(distancias)"
      ],
      "metadata": {
        "colab": {
          "base_uri": "https://localhost:8080/"
        },
        "id": "TnfKPrpaA8Jg",
        "outputId": "5086b9d2-d3ce-4e09-f6a9-d45c8abcd313"
      },
      "execution_count": 8,
      "outputs": [
        {
          "output_type": "stream",
          "name": "stdout",
          "text": [
            "[[0.]\n",
            " [2.]\n",
            " [4.]]\n"
          ]
        }
      ]
    },
    {
      "cell_type": "markdown",
      "source": [
        "## **Paso 2: Obtener el centroide mas cercano**\n",
        "En esa función, vamos a necesitar obtener el centroide más cerano de entre una lista. Esto se logra con \"argmin\""
      ],
      "metadata": {
        "id": "8BhTWUE1Btk5"
      }
    },
    {
      "cell_type": "code",
      "source": [
        "def centroideCercano(muestra, listaCentroides):\n",
        "  listaDistancias = distEuclidiana(muestra, listaCentroides)\n",
        "  centroideCercano = np.argmin(listaDistancias)\n",
        "  return centroideCercano"
      ],
      "metadata": {
        "id": "FwpSlmeMByDj"
      },
      "execution_count": 9,
      "outputs": []
    },
    {
      "cell_type": "code",
      "source": [
        "#Prueba de centroide más cercano\n",
        "muestra = np.array([1,2,3,4])\n",
        "centroides = np.array([[1,2,3,4],\n",
        "                       [2,3,4,5],\n",
        "                       [3,4,5,6]])\n",
        "resultado = centroideCercano(muestra, centroides)\n",
        "print('El centroide mas cercano es: ', str(resultado))"
      ],
      "metadata": {
        "colab": {
          "base_uri": "https://localhost:8080/"
        },
        "id": "Ku_jqju3ByoW",
        "outputId": "33e3dbe9-0830-486f-bfea-4d2ebbccb098"
      },
      "execution_count": 10,
      "outputs": [
        {
          "output_type": "stream",
          "name": "stdout",
          "text": [
            "El centroide mas cercano es:  0\n"
          ]
        }
      ]
    },
    {
      "cell_type": "markdown",
      "source": [
        "## **Paso 3: Repetir eso para todas las muestras**\n",
        "En esta función vamos a utilizar la funcion \"centroideCercano\" para clasificar todas las muestras"
      ],
      "metadata": {
        "id": "fuV_O7llExCY"
      }
    },
    {
      "cell_type": "code",
      "source": [
        "def clasificarPorCentroides(muestras, centroides):\n",
        "  resultado = np.zeros((muestras.shape[0], 1))\n",
        "  for counter in range(0, muestras.shape[0]):\n",
        "    resultado[counter] = centroideCercano(muestras[counter], centroides)\n",
        "  return resultado"
      ],
      "metadata": {
        "id": "fCb9DqmWE0tr"
      },
      "execution_count": 11,
      "outputs": []
    },
    {
      "cell_type": "code",
      "source": [
        "#Prueba de todos los centroides vs todas las muestras\n",
        "muestras = np.array([[1,2,3,4],\n",
        "                     [2,3,4,5],\n",
        "                     [3,4,5,6]])\n",
        "\n",
        "centroides = np.array([[1,2,3,4],\n",
        "                       [2,3,4,5],\n",
        "                       [3,4,5,6]])\n",
        "\n",
        "resultados = clasificarPorCentroides(muestras, centroides)\n",
        "print(resultados)"
      ],
      "metadata": {
        "colab": {
          "base_uri": "https://localhost:8080/"
        },
        "id": "A1Gtc4NtE0xB",
        "outputId": "06b2ad77-cff2-4e7c-da3e-c5137fb5df0a"
      },
      "execution_count": 12,
      "outputs": [
        {
          "output_type": "stream",
          "name": "stdout",
          "text": [
            "[[0.]\n",
            " [1.]\n",
            " [2.]]\n"
          ]
        }
      ]
    },
    {
      "cell_type": "markdown",
      "source": [
        "# Reto 02\n",
        "**Dr. Antonio Arista Jalife**\n",
        "\n",
        "Este reto consiste en agrandar la librería de MLUtilites.py para crear poco a poco un sistema de recomendaciones. Primero hemos de crear una función que separe datos."
      ],
      "metadata": {
        "id": "RZqaqVYurqth"
      }
    },
    {
      "cell_type": "code",
      "source": [
        "import numpy as np\n",
        "from matplotlib import pyplot as plt\n",
        "from sklearn.datasets import make_blobs\n",
        "from sklearn.model_selection import train_test_split"
      ],
      "metadata": {
        "id": "480YLoharv7V"
      },
      "execution_count": 13,
      "outputs": []
    },
    {
      "cell_type": "markdown",
      "source": [
        "**Separación de datos**\n",
        "\n",
        "Esta función separa datos dependiendo de la etiqueta de valor esperado que tengan"
      ],
      "metadata": {
        "id": "xO0QD3CCsXVQ"
      }
    },
    {
      "cell_type": "code",
      "source": [
        "def separarDatos(muestras, valoresEsperados, valorAFiltrar):\n",
        "  indices = np.where(valoresEsperados == valorAFiltrar)\n",
        "  return muestras[indices], valoresEsperados[indices]"
      ],
      "metadata": {
        "id": "34_nv3F0scSV"
      },
      "execution_count": 14,
      "outputs": []
    },
    {
      "cell_type": "markdown",
      "source": [
        "Prueba de la separación de datos"
      ],
      "metadata": {
        "id": "nTYc5Isyw5tL"
      }
    },
    {
      "cell_type": "code",
      "source": [
        "x, y = make_blobs(n_samples=1000, centers=3, n_features=2)\n",
        "plt.scatter(x[:,0], x[:,1], c=y)\n",
        "plt.show()\n",
        "\n",
        "muestrasCon1, valoresEsperadosCon1 = separarDatos(x,y,1)\n",
        "print(valoresEsperadosCon1)"
      ],
      "metadata": {
        "colab": {
          "base_uri": "https://localhost:8080/",
          "height": 586
        },
        "id": "_axtQJS1w_O4",
        "outputId": "8b34a274-4c2d-425b-e35a-281d9b0ad81c"
      },
      "execution_count": 15,
      "outputs": [
        {
          "output_type": "display_data",
          "data": {
            "text/plain": [
              "<Figure size 640x480 with 1 Axes>"
            ],
            "image/png": "[encoded data removed]"
          },
          "metadata": {}
        },
        {
          "output_type": "stream",
          "name": "stdout",
          "text": [
            "[1 1 1 1 1 1 1 1 1 1 1 1 1 1 1 1 1 1 1 1 1 1 1 1 1 1 1 1 1 1 1 1 1 1 1 1 1\n",
            " 1 1 1 1 1 1 1 1 1 1 1 1 1 1 1 1 1 1 1 1 1 1 1 1 1 1 1 1 1 1 1 1 1 1 1 1 1\n",
            " 1 1 1 1 1 1 1 1 1 1 1 1 1 1 1 1 1 1 1 1 1 1 1 1 1 1 1 1 1 1 1 1 1 1 1 1 1\n",
            " 1 1 1 1 1 1 1 1 1 1 1 1 1 1 1 1 1 1 1 1 1 1 1 1 1 1 1 1 1 1 1 1 1 1 1 1 1\n",
            " 1 1 1 1 1 1 1 1 1 1 1 1 1 1 1 1 1 1 1 1 1 1 1 1 1 1 1 1 1 1 1 1 1 1 1 1 1\n",
            " 1 1 1 1 1 1 1 1 1 1 1 1 1 1 1 1 1 1 1 1 1 1 1 1 1 1 1 1 1 1 1 1 1 1 1 1 1\n",
            " 1 1 1 1 1 1 1 1 1 1 1 1 1 1 1 1 1 1 1 1 1 1 1 1 1 1 1 1 1 1 1 1 1 1 1 1 1\n",
            " 1 1 1 1 1 1 1 1 1 1 1 1 1 1 1 1 1 1 1 1 1 1 1 1 1 1 1 1 1 1 1 1 1 1 1 1 1\n",
            " 1 1 1 1 1 1 1 1 1 1 1 1 1 1 1 1 1 1 1 1 1 1 1 1 1 1 1 1 1 1 1 1 1 1 1 1 1]\n"
          ]
        }
      ]
    },
    {
      "cell_type": "code",
      "source": [
        "import os\n",
        "import sys\n",
        "sys.path.append('/content/drive/MyDrive/DataSets3_TCH/')\n",
        "import MLUtilities as utils\n",
        "from scipy import stats"
      ],
      "metadata": {
        "id": "tzKxMSskxFkS"
      },
      "execution_count": 16,
      "outputs": []
    },
    {
      "cell_type": "markdown",
      "source": [
        "### **Código para obtener moda**\n",
        "\n",
        "(Extraído del ejemplo 01 / ayuda para el reto 02)"
      ],
      "metadata": {
        "id": "65jEVRLVxxs4"
      }
    },
    {
      "cell_type": "code",
      "source": [
        "def obtenerModa(resultados):\n",
        "    moda = (stats.mode(resultados)[0]).reshape(-1)\n",
        "    return moda[0]"
      ],
      "metadata": {
        "id": "vGvuoBi7x2pV"
      },
      "execution_count": 17,
      "outputs": []
    },
    {
      "cell_type": "markdown",
      "source": [
        "### **Código para obtener la accuracy de una muestra con K medias**\n",
        "Este código primero extrae el numero de muestras, luego los resultados de clasificación, luego la moda y busca con np.where donde los resultados son diferentes a la moda, esos son los indices de errores.\n",
        "\n",
        "Luego entonces, la cantidad de errores es el tamaño de los resultados donde los indicesErrores apuntan. finalmente, la Accuracy la calculamos como:\n",
        "![image.png](data:image/png;base64,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)"
      ],
      "metadata": {
        "id": "vH2xuUjUx6il"
      }
    },
    {
      "cell_type": "code",
      "source": [
        "def obtenerAccuracy_kmedias(muestras, centroides):\n",
        "    numMuestras = muestras.shape[0]\n",
        "\n",
        "    resultados = utils.clasificarPorCentroides(muestras, centroides)\n",
        "    moda = obtenerModa(resultados)\n",
        "\n",
        "    indicesErrores = np.where(resultados != moda)\n",
        "    cantidadErrores = len(resultados[indicesErrores])\n",
        "    accuracy = ((numMuestras - cantidadErrores) / numMuestras) *100\n",
        "    return accuracy"
      ],
      "metadata": {
        "id": "qn_BJZpfyJo6"
      },
      "execution_count": 18,
      "outputs": []
    },
    {
      "cell_type": "markdown",
      "source": [
        "### **Prueba de la función de obtener Accuracy**\n",
        "Para ello, observa el scatter plot de arriba, y elige los centroides manualmente con \"centroidesDummy\". si pones el centroide dummy 1 y 2 muy cerca, la accuracy va a bajar considerablemente. si pones el centroide dummy 1 enmedio de una clase, y el centroide 2 muy lejos, la accuracy será de 100%"
      ],
      "metadata": {
        "id": "rBiK8fEdyOMb"
      }
    },
    {
      "cell_type": "code",
      "source": [
        "centroidesDummy = np.array([[-4,-9]       #Centroide dummy 1\n",
        "                            ,[-5,-10]])   #Centroide dummy 2\n",
        "accuracy = obtenerAccuracy_kmedias(muestrasCon1,centroidesDummy)\n",
        "print(accuracy)"
      ],
      "metadata": {
        "colab": {
          "base_uri": "https://localhost:8080/"
        },
        "id": "FCTiL0O_yR0t",
        "outputId": "40c3a0dd-b392-4bf7-9eb4-9de6d0265ffe"
      },
      "execution_count": 19,
      "outputs": [
        {
          "output_type": "stream",
          "name": "stdout",
          "text": [
            "100.0\n"
          ]
        }
      ]
    }
  ]
}